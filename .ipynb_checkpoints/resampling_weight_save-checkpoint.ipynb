{
 "cells": [
  {
   "cell_type": "code",
   "execution_count": 1,
   "metadata": {},
   "outputs": [],
   "source": [
    "import numpy as np\n",
    "import uproot\n",
    "import h5py\n",
    "import os\n",
    "import torch\n",
    "import torch_geometric.nn as PyG\n",
    "from torch_geometric.transforms import Distance\n",
    "from torch_geometric.data import InMemoryDataset as PyGDataset, Data as PyGData\n",
    "from torch_geometric.data import Data\n",
    "import math\n",
    "import numba\n",
    "import numpy as np\n",
    "import torch\n",
    "import h5py\n",
    "import torch.nn as nn\n",
    "import torch.nn.functional as F\n",
    "import torch_geometric.nn as PyG\n",
    "from torch_geometric.transforms import Distance\n",
    "from torch_geometric.data import DataLoader\n",
    "from torch_geometric.data import Data as PyGData\n",
    "from torch_geometric.data import Data\n",
    "import sys, os\n",
    "import subprocess\n",
    "import csv, yaml\n",
    "import math\n",
    "from tqdm import tqdm\n",
    "from sklearn.metrics import accuracy_score\n",
    "import torch.optim as optim\n",
    "import argparse\n",
    "import pandas as pd\n",
    "import matplotlib.pyplot as plt\n",
    "import matplotlib.tri as tri\n",
    "# import numpy, numba, awkward, awkward.numba"
   ]
  },
  {
   "cell_type": "code",
   "execution_count": 2,
   "metadata": {},
   "outputs": [],
   "source": [
    "\n",
    "# path = '/users/yewzzang/TTTT_TuneCP5_13TeV-amcatnlo-pythia8/4top_dump_ex2/220323_084833/delphes'\n",
    "# graph_path = '/users/yewzzang/TTTT_TuneCP5_13TeV-amcatnlo-pythia8/4top_dump_ex2/220323_084833/graph/'\n",
    "# output_path = '/users/yewzzang/TTTT_TuneCP5_13TeV-amcatnlo-pythia8/4top_dump_ex2/220323_084833/h5/'\n",
    "\n",
    "\n",
    "# path = '/users/yewzzang/TTTT_TuneCP5_13TeV-amcatnlo-pythia8/4top_dump_ex1/220324_055935/delphes'\n",
    "# graph_path = '/users/yewzzang/TTTT_TuneCP5_13TeV-amcatnlo-pythia8/4top_dump_ex1/220324_055935/graph/'\n",
    "# output_path = '/users/yewzzang/TTTT_TuneCP5_13TeV-amcatnlo-pythia8/4top_dump_ex1/220324_055935/h5_2/'\n",
    "\n",
    "## 4top\n",
    "# # path = '/users/yewzzang/data_graph/pt/4top_weight_210709/ex1_v2/'\n",
    "# path = '/users/yewzzang/data_graph/pt/4top_weight_210709/ex1_v2_210520/'\n",
    "# # path = '/users/yewzzang/data_graph/pt/4top_weight_210709/ex1_v2_210520_0/'\n",
    "\n",
    "# # out_path1 = '/users/yewzzang/data_graph/pt/4top_weight_210709/ex1_v2_w1/'\n",
    "# out_path1 = '/users/yewzzang/data_graph/pt/4top_weight_210709/ex1_v2_210520_w1/'\n",
    "# # out_path1 = '/users/yewzzang/data_graph/pt/4top_weight_210709/ex1_v2_210520_0_w1/'\n",
    "\n",
    "# # out_path2 = '/users/yewzzang/data_graph/pt/4top_weight_210709/ex1_v2_w2/'\n",
    "# out_path2 = '/users/yewzzang/data_graph/pt/4top_weight_210709/ex1_v2_210520_w2/'\n",
    "# # out_path2 = '/users/yewzzang/data_graph/pt/4top_weight_210709/ex1_v2_210520_0_w2/'\n",
    "\n",
    "\n",
    "\n",
    "### ttbar\n",
    "path = '/users/yewzzang/data_graph/pt/ttbar_weight_210719/noedge/'\n",
    "out_path1 = '/users/yewzzang/data_graph/pt/ttbar_weight_210719/noedge_w1/'\n",
    "out_path2 = '/users/yewzzang/data_graph/pt/ttbar_weight_210719/noedge_w2/'"
   ]
  },
  {
   "cell_type": "code",
   "execution_count": 3,
   "metadata": {},
   "outputs": [],
   "source": [
    "resampling_model_9s = '/users/yewzzang/work/HEPGNN_4top_resampling/result/date20220711_resampling_fea4_9s_ttbar_test1'\n",
    "resampling_model_all = '/users/yewzzang/work/HEPGNN_4top_resampling/result/date20220711_resampling_fea4_all_ttbar_test1'"
   ]
  },
  {
   "cell_type": "code",
   "execution_count": null,
   "metadata": {},
   "outputs": [],
   "source": []
  },
  {
   "cell_type": "code",
   "execution_count": 4,
   "metadata": {},
   "outputs": [],
   "source": [
    "sys.path.append(\"./python\")"
   ]
  },
  {
   "cell_type": "code",
   "execution_count": 5,
   "metadata": {},
   "outputs": [
    {
     "ename": "FileNotFoundError",
     "evalue": "[Errno 2] No such file or directory: '/users/yewzzang/work/HEPGNN_4top_resampling/result/date20220711_resampling_fea4_9s_ttbar_test1/model.pth'",
     "output_type": "error",
     "traceback": [
      "\u001b[0;31m---------------------------------------------------------------------------\u001b[0m",
      "\u001b[0;31mFileNotFoundError\u001b[0m                         Traceback (most recent call last)",
      "\u001b[0;32m<ipython-input-5-6b84ad658086>\u001b[0m in \u001b[0;36m<module>\u001b[0;34m\u001b[0m\n\u001b[1;32m      1\u001b[0m \u001b[0;32mfrom\u001b[0m \u001b[0mmodel\u001b[0m\u001b[0;34m.\u001b[0m\u001b[0mallModel\u001b[0m \u001b[0;32mimport\u001b[0m \u001b[0;34m*\u001b[0m\u001b[0;34m\u001b[0m\u001b[0;34m\u001b[0m\u001b[0m\n\u001b[1;32m      2\u001b[0m \u001b[0;34m\u001b[0m\u001b[0m\n\u001b[0;32m----> 3\u001b[0;31m \u001b[0mmodel_9s\u001b[0m \u001b[0;34m=\u001b[0m \u001b[0mtorch\u001b[0m\u001b[0;34m.\u001b[0m\u001b[0mload\u001b[0m\u001b[0;34m(\u001b[0m\u001b[0mresampling_model_9s\u001b[0m\u001b[0;34m+\u001b[0m\u001b[0;34m'/model.pth'\u001b[0m\u001b[0;34m,\u001b[0m \u001b[0mmap_location\u001b[0m\u001b[0;34m=\u001b[0m\u001b[0;34m'cpu'\u001b[0m\u001b[0;34m)\u001b[0m\u001b[0;34m\u001b[0m\u001b[0;34m\u001b[0m\u001b[0m\n\u001b[0m\u001b[1;32m      4\u001b[0m \u001b[0mmodel_9s\u001b[0m\u001b[0;34m.\u001b[0m\u001b[0mload_state_dict\u001b[0m\u001b[0;34m(\u001b[0m\u001b[0mtorch\u001b[0m\u001b[0;34m.\u001b[0m\u001b[0mload\u001b[0m\u001b[0;34m(\u001b[0m\u001b[0mresampling_model_9s\u001b[0m\u001b[0;34m+\u001b[0m\u001b[0;34m'/weight.pth'\u001b[0m\u001b[0;34m,\u001b[0m \u001b[0mmap_location\u001b[0m\u001b[0;34m=\u001b[0m\u001b[0;34m'cpu'\u001b[0m\u001b[0;34m)\u001b[0m\u001b[0;34m)\u001b[0m\u001b[0;34m\u001b[0m\u001b[0;34m\u001b[0m\u001b[0m\n\u001b[1;32m      5\u001b[0m \u001b[0mmodel_9s\u001b[0m \u001b[0;34m=\u001b[0m \u001b[0mmodel_9s\u001b[0m\u001b[0;34m.\u001b[0m\u001b[0mcuda\u001b[0m\u001b[0;34m(\u001b[0m\u001b[0;34m)\u001b[0m\u001b[0;34m\u001b[0m\u001b[0;34m\u001b[0m\u001b[0m\n",
      "\u001b[0;32m~/.conda/envs/pytorch170_pyG/lib/python3.7/site-packages/torch/serialization.py\u001b[0m in \u001b[0;36mload\u001b[0;34m(f, map_location, pickle_module, **pickle_load_args)\u001b[0m\n\u001b[1;32m    579\u001b[0m         \u001b[0mpickle_load_args\u001b[0m\u001b[0;34m[\u001b[0m\u001b[0;34m'encoding'\u001b[0m\u001b[0;34m]\u001b[0m \u001b[0;34m=\u001b[0m \u001b[0;34m'utf-8'\u001b[0m\u001b[0;34m\u001b[0m\u001b[0;34m\u001b[0m\u001b[0m\n\u001b[1;32m    580\u001b[0m \u001b[0;34m\u001b[0m\u001b[0m\n\u001b[0;32m--> 581\u001b[0;31m     \u001b[0;32mwith\u001b[0m \u001b[0m_open_file_like\u001b[0m\u001b[0;34m(\u001b[0m\u001b[0mf\u001b[0m\u001b[0;34m,\u001b[0m \u001b[0;34m'rb'\u001b[0m\u001b[0;34m)\u001b[0m \u001b[0;32mas\u001b[0m \u001b[0mopened_file\u001b[0m\u001b[0;34m:\u001b[0m\u001b[0;34m\u001b[0m\u001b[0;34m\u001b[0m\u001b[0m\n\u001b[0m\u001b[1;32m    582\u001b[0m         \u001b[0;32mif\u001b[0m \u001b[0m_is_zipfile\u001b[0m\u001b[0;34m(\u001b[0m\u001b[0mopened_file\u001b[0m\u001b[0;34m)\u001b[0m\u001b[0;34m:\u001b[0m\u001b[0;34m\u001b[0m\u001b[0;34m\u001b[0m\u001b[0m\n\u001b[1;32m    583\u001b[0m             \u001b[0;31m# The zipfile reader is going to advance the current file position.\u001b[0m\u001b[0;34m\u001b[0m\u001b[0;34m\u001b[0m\u001b[0;34m\u001b[0m\u001b[0m\n",
      "\u001b[0;32m~/.conda/envs/pytorch170_pyG/lib/python3.7/site-packages/torch/serialization.py\u001b[0m in \u001b[0;36m_open_file_like\u001b[0;34m(name_or_buffer, mode)\u001b[0m\n\u001b[1;32m    228\u001b[0m \u001b[0;32mdef\u001b[0m \u001b[0m_open_file_like\u001b[0m\u001b[0;34m(\u001b[0m\u001b[0mname_or_buffer\u001b[0m\u001b[0;34m,\u001b[0m \u001b[0mmode\u001b[0m\u001b[0;34m)\u001b[0m\u001b[0;34m:\u001b[0m\u001b[0;34m\u001b[0m\u001b[0;34m\u001b[0m\u001b[0m\n\u001b[1;32m    229\u001b[0m     \u001b[0;32mif\u001b[0m \u001b[0m_is_path\u001b[0m\u001b[0;34m(\u001b[0m\u001b[0mname_or_buffer\u001b[0m\u001b[0;34m)\u001b[0m\u001b[0;34m:\u001b[0m\u001b[0;34m\u001b[0m\u001b[0;34m\u001b[0m\u001b[0m\n\u001b[0;32m--> 230\u001b[0;31m         \u001b[0;32mreturn\u001b[0m \u001b[0m_open_file\u001b[0m\u001b[0;34m(\u001b[0m\u001b[0mname_or_buffer\u001b[0m\u001b[0;34m,\u001b[0m \u001b[0mmode\u001b[0m\u001b[0;34m)\u001b[0m\u001b[0;34m\u001b[0m\u001b[0;34m\u001b[0m\u001b[0m\n\u001b[0m\u001b[1;32m    231\u001b[0m     \u001b[0;32melse\u001b[0m\u001b[0;34m:\u001b[0m\u001b[0;34m\u001b[0m\u001b[0;34m\u001b[0m\u001b[0m\n\u001b[1;32m    232\u001b[0m         \u001b[0;32mif\u001b[0m \u001b[0;34m'w'\u001b[0m \u001b[0;32min\u001b[0m \u001b[0mmode\u001b[0m\u001b[0;34m:\u001b[0m\u001b[0;34m\u001b[0m\u001b[0;34m\u001b[0m\u001b[0m\n",
      "\u001b[0;32m~/.conda/envs/pytorch170_pyG/lib/python3.7/site-packages/torch/serialization.py\u001b[0m in \u001b[0;36m__init__\u001b[0;34m(self, name, mode)\u001b[0m\n\u001b[1;32m    209\u001b[0m \u001b[0;32mclass\u001b[0m \u001b[0m_open_file\u001b[0m\u001b[0;34m(\u001b[0m\u001b[0m_opener\u001b[0m\u001b[0;34m)\u001b[0m\u001b[0;34m:\u001b[0m\u001b[0;34m\u001b[0m\u001b[0;34m\u001b[0m\u001b[0m\n\u001b[1;32m    210\u001b[0m     \u001b[0;32mdef\u001b[0m \u001b[0m__init__\u001b[0m\u001b[0;34m(\u001b[0m\u001b[0mself\u001b[0m\u001b[0;34m,\u001b[0m \u001b[0mname\u001b[0m\u001b[0;34m,\u001b[0m \u001b[0mmode\u001b[0m\u001b[0;34m)\u001b[0m\u001b[0;34m:\u001b[0m\u001b[0;34m\u001b[0m\u001b[0;34m\u001b[0m\u001b[0m\n\u001b[0;32m--> 211\u001b[0;31m         \u001b[0msuper\u001b[0m\u001b[0;34m(\u001b[0m\u001b[0m_open_file\u001b[0m\u001b[0;34m,\u001b[0m \u001b[0mself\u001b[0m\u001b[0;34m)\u001b[0m\u001b[0;34m.\u001b[0m\u001b[0m__init__\u001b[0m\u001b[0;34m(\u001b[0m\u001b[0mopen\u001b[0m\u001b[0;34m(\u001b[0m\u001b[0mname\u001b[0m\u001b[0;34m,\u001b[0m \u001b[0mmode\u001b[0m\u001b[0;34m)\u001b[0m\u001b[0;34m)\u001b[0m\u001b[0;34m\u001b[0m\u001b[0;34m\u001b[0m\u001b[0m\n\u001b[0m\u001b[1;32m    212\u001b[0m \u001b[0;34m\u001b[0m\u001b[0m\n\u001b[1;32m    213\u001b[0m     \u001b[0;32mdef\u001b[0m \u001b[0m__exit__\u001b[0m\u001b[0;34m(\u001b[0m\u001b[0mself\u001b[0m\u001b[0;34m,\u001b[0m \u001b[0;34m*\u001b[0m\u001b[0margs\u001b[0m\u001b[0;34m)\u001b[0m\u001b[0;34m:\u001b[0m\u001b[0;34m\u001b[0m\u001b[0;34m\u001b[0m\u001b[0m\n",
      "\u001b[0;31mFileNotFoundError\u001b[0m: [Errno 2] No such file or directory: '/users/yewzzang/work/HEPGNN_4top_resampling/result/date20220711_resampling_fea4_9s_ttbar_test1/model.pth'"
     ]
    }
   ],
   "source": [
    "from model.allModel import *\n",
    "\n",
    "model_9s = torch.load(resampling_model_9s+'/model.pth', map_location='cpu')\n",
    "model_9s.load_state_dict(torch.load(resampling_model_9s+'/weight.pth', map_location='cpu'))\n",
    "model_9s = model_9s.cuda()\n",
    "device = 'cuda'\n",
    "\n",
    "model_all = torch.load(resampling_model_all+'/model.pth', map_location='cpu')\n",
    "model_all.load_state_dict(torch.load(resampling_model_all+'/weight.pth', map_location='cpu'))\n",
    "model_all = model_all.cuda()\n",
    "device = 'cuda'"
   ]
  },
  {
   "cell_type": "code",
   "execution_count": null,
   "metadata": {},
   "outputs": [],
   "source": [
    "res = []\n",
    "for root, dirs, files in os.walk(path):\n",
    "    rootpath = os.path.join(os.path.abspath(path), root)\n",
    "    for file in files:\n",
    "        filepath = os.path.join(rootpath, file)\n",
    "        \n",
    "        filetype = filepath.split('.')[-1]\n",
    "        if filetype != 'pt': continue\n",
    "  \n",
    "        res.append(filepath)"
   ]
  },
  {
   "cell_type": "code",
   "execution_count": null,
   "metadata": {},
   "outputs": [],
   "source": [
    "res"
   ]
  },
  {
   "cell_type": "code",
   "execution_count": null,
   "metadata": {
    "scrolled": true
   },
   "outputs": [],
   "source": [
    "import time\n",
    "start = time.time()\n",
    "for i in range(len(res)):\n",
    "\n",
    "    file_name = res[i]\n",
    "    cla = file_name.split('/')[-4].split('_')\n",
    "    num = file_name.split('/')[-1].split('.')[-2]\n",
    "\n",
    "    \n",
    "\n",
    "    save_f_name = num\n",
    "\n",
    "    save_path1 = out_path1\n",
    "    save_path2 = out_path2\n",
    "#     if not os.path.exists(save_path): os.makedirs(save_path)\n",
    "    save_file_name1 = save_path1 + save_f_name + '.pt'\n",
    "    save_file_name2 = save_path2 + save_f_name + '.pt'\n",
    "#     print(save_file_name)\n",
    "### load data\n",
    "    try:\n",
    "        r_data = torch.load(file_name)\n",
    "#     r_data = uproot.open(file_name)[\"Delphes\"]\n",
    "    except KeyError:\n",
    "        print(\"delphes 없음\")\n",
    "        pass\n",
    "    \n",
    "\n",
    "    model_9s.eval()\n",
    "    model_all.eval()\n",
    "    \n",
    "    \n",
    "    list_9s = []\n",
    "    list_all = []\n",
    "    for i in range(len(r_data)):\n",
    "#     for i in range(1):\n",
    "        data = r_data[i].to(device)\n",
    "        data_1 = PyGData(x = data.x[:,:4], edge_index=data.edge_index, pos = data.pos, y = data.y, batch = torch.from_numpy(np.zeros([1],dtype = np.int)))\n",
    "        data_1 = data_1.to(device)\n",
    "        \n",
    "        pred1 = model_9s(data_1)\n",
    "        pred2 = model_all(data_1)\n",
    "        \n",
    "        data_9s = data\n",
    "        data_all = data\n",
    "        \n",
    "\n",
    "        data_9s.rs = pred1[0].detach().to(\"cpu\")\n",
    "        data_9s.x = data.x.detach().to(\"cpu\")\n",
    "        data_9s.edge_index = data.edge_index.detach().to(\"cpu\")\n",
    "        data_9s.pos = data.pos.detach().to(\"cpu\")\n",
    "        data_9s.y = data.y.detach().to(\"cpu\")\n",
    "        \n",
    "        data_all.rs = pred2[0].detach().to(\"cpu\")\n",
    "        data_all.x = data.x.detach().to(\"cpu\")\n",
    "        data_all.edge_index = data.edge_index.detach().to(\"cpu\")\n",
    "        data_all.pos = data.pos.detach().to(\"cpu\")\n",
    "        data_all.y = data.y.detach().to(\"cpu\")\n",
    "        \n",
    "        list_9s.append(data_9s)\n",
    "        list_all.append(data_all)\n",
    "        \n",
    "    torch.save(list_9s, save_file_name1)\n",
    "    torch.save(list_all, save_file_name2)\n",
    "    \n",
    "    print(save_file_name1,'finish')\n",
    "    print(save_file_name1,'finish')\n",
    "    \n",
    "print(time.time()-start)"
   ]
  },
  {
   "cell_type": "code",
   "execution_count": null,
   "metadata": {},
   "outputs": [],
   "source": []
  },
  {
   "cell_type": "code",
   "execution_count": null,
   "metadata": {},
   "outputs": [],
   "source": []
  }
 ],
 "metadata": {
  "kernelspec": {
   "display_name": "Python 3",
   "language": "python",
   "name": "python3"
  },
  "language_info": {
   "codemirror_mode": {
    "name": "ipython",
    "version": 3
   },
   "file_extension": ".py",
   "mimetype": "text/x-python",
   "name": "python",
   "nbconvert_exporter": "python",
   "pygments_lexer": "ipython3",
   "version": "3.7.9"
  }
 },
 "nbformat": 4,
 "nbformat_minor": 4
}
