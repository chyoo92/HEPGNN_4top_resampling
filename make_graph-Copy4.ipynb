{
 "cells": [
  {
   "cell_type": "code",
   "execution_count": 1,
   "metadata": {},
   "outputs": [],
   "source": [
    "import numpy as np\n",
    "import uproot\n",
    "import h5py\n",
    "import os\n",
    "import torch\n",
    "import torch_geometric.nn as PyG\n",
    "from torch_geometric.transforms import Distance\n",
    "from torch_geometric.data import InMemoryDataset as PyGDataset, Data as PyGData\n",
    "from torch_geometric.data import Data\n",
    "import math\n",
    "import numba\n",
    "import numpy as np\n",
    "import torch\n",
    "import h5py\n",
    "import torch.nn as nn\n",
    "import torch.nn.functional as F\n",
    "import torch_geometric.nn as PyG\n",
    "from torch_geometric.transforms import Distance\n",
    "from torch_geometric.data import DataLoader\n",
    "from torch_geometric.data import Data as PyGData\n",
    "from torch_geometric.data import Data\n",
    "import sys, os\n",
    "import subprocess\n",
    "import csv, yaml\n",
    "import math\n",
    "from tqdm import tqdm\n",
    "from sklearn.metrics import accuracy_score\n",
    "import torch.optim as optim\n",
    "import argparse\n",
    "import pandas as pd\n",
    "import matplotlib.pyplot as plt\n",
    "import matplotlib.tri as tri\n",
    "# import numpy, numba, awkward, awkward.numba"
   ]
  },
  {
   "cell_type": "code",
   "execution_count": 2,
   "metadata": {},
   "outputs": [],
   "source": [
    "\n",
    "# path = '/users/yewzzang/TTTT_TuneCP5_13TeV-amcatnlo-pythia8/4top_dump_ex2/220323_084833/delphes'\n",
    "# graph_path = '/users/yewzzang/TTTT_TuneCP5_13TeV-amcatnlo-pythia8/4top_dump_ex2/220323_084833/graph/'\n",
    "# output_path = '/users/yewzzang/TTTT_TuneCP5_13TeV-amcatnlo-pythia8/4top_dump_ex2/220323_084833/h5/'\n",
    "\n",
    "\n",
    "path = '/users/yewzzang/TTTT_TuneCP5_13TeV-amcatnlo-pythia8/4top_dump_ex1/220324_055935/delphes/'\n",
    "graph_path = '/users/yewzzang/TTTT_TuneCP5_13TeV-amcatnlo-pythia8/4top_dump_ex1/220324_055935/graph/'\n",
    "output_path = '/users/yewzzang/TTTT_TuneCP5_13TeV-amcatnlo-pythia8/4top_dump_ex1/220324_055935/h5/'\n",
    "\n",
    "\n"
   ]
  },
  {
   "cell_type": "code",
   "execution_count": 3,
   "metadata": {},
   "outputs": [],
   "source": [
    "resampling_model = '/users/yewzzang/work/HEPGNN_4top_resampling/result/20220520_all_data_resam'"
   ]
  },
  {
   "cell_type": "code",
   "execution_count": 4,
   "metadata": {},
   "outputs": [],
   "source": [
    "sys.path.append(\"./python\")"
   ]
  },
  {
   "cell_type": "code",
   "execution_count": 5,
   "metadata": {},
   "outputs": [],
   "source": [
    "from model.allModel import *\n",
    "\n",
    "model = torch.load(resampling_model+'/model.pth', map_location='cpu')\n",
    "model.load_state_dict(torch.load(resampling_model+'/weight.pth', map_location='cpu'))\n",
    "model = model.cuda()\n",
    "device = 'cuda'"
   ]
  },
  {
   "cell_type": "code",
   "execution_count": 6,
   "metadata": {},
   "outputs": [
    {
     "data": {
      "text/plain": [
       "GCN3(\n",
       "  (conv1): GCNConv(4, 32)\n",
       "  (conv2): GCNConv(32, 64)\n",
       "  (conv3): GCNConv(64, 64)\n",
       "  (fc): Sequential(\n",
       "    (0): Linear(in_features=64, out_features=32, bias=True)\n",
       "    (1): ReLU()\n",
       "    (2): BatchNorm1d(32, eps=1e-05, momentum=0.1, affine=True, track_running_stats=True)\n",
       "    (3): Dropout(p=0.5, inplace=False)\n",
       "    (4): Linear(in_features=32, out_features=1, bias=True)\n",
       "    (5): Softplus(beta=1, threshold=20)\n",
       "  )\n",
       ")"
      ]
     },
     "execution_count": 6,
     "metadata": {},
     "output_type": "execute_result"
    }
   ],
   "source": [
    "model"
   ]
  },
  {
   "cell_type": "code",
   "execution_count": null,
   "metadata": {},
   "outputs": [],
   "source": []
  },
  {
   "cell_type": "code",
   "execution_count": null,
   "metadata": {},
   "outputs": [],
   "source": []
  },
  {
   "cell_type": "code",
   "execution_count": null,
   "metadata": {},
   "outputs": [],
   "source": []
  },
  {
   "cell_type": "code",
   "execution_count": null,
   "metadata": {},
   "outputs": [],
   "source": []
  },
  {
   "cell_type": "code",
   "execution_count": 7,
   "metadata": {},
   "outputs": [],
   "source": [
    "@numba.njit(nogil=True, fastmath=True, parallel=True)\n",
    "def buildGraph(jetss_pt, jetss_eta, jetss_phi):\n",
    "#     maxDR2 = 100\n",
    "    maxDR2 = 0 ## maximum deltaR value to connect two jets\n",
    "    graphs = []\n",
    "    g = []\n",
    "    \n",
    "    selJets = (jetss_pt > 35) & (np.fabs(jetss_eta) < 2.4)\n",
    "\n",
    "    jets_eta = jetss_eta[selJets]\n",
    "    jets_phi = jetss_phi[selJets]\n",
    "#     jets_eta = jetss_eta\n",
    "#     jets_phi = jetss_phi\n",
    "    \n",
    "    nJet = len(jets_eta)\n",
    "    prange = numba.prange\n",
    "    for i in prange(nJet):\n",
    "        for j in prange(i):\n",
    "#     for i in range(nJet):\n",
    "#         for j in range(i):\n",
    "            dEta = jets_eta[i]-jets_eta[j]\n",
    "            dPhi = jets_phi[i]-jets_phi[j]\n",
    "            ## Move dPhi to [-pi,pi] range\n",
    "            if   dPhi >= math.pi: dPhi -= 2*math.pi\n",
    "            elif dPhi < -math.pi: dPhi += 2*math.pi\n",
    "            ## Compute deltaR^2 and ask it is inside of our ball\n",
    "            dR2 = dEta*dEta + dPhi*dPhi\n",
    "            if dR2 > maxDR2: continue\n",
    "            g.append([i,j])\n",
    "            \n",
    "    graphs.append(g)\n",
    "    return graphs"
   ]
  },
  {
   "cell_type": "code",
   "execution_count": 8,
   "metadata": {},
   "outputs": [],
   "source": [
    "def countNBjets(JetBTag):\n",
    "    nEvent = int(len(JetBTag))\n",
    "    NBjets = []\n",
    "    for i in range(nEvent):\n",
    "        selBjets = (JetBTag[i] > 0.5)\n",
    "        numBjets = np.sum(selBjets)\n",
    "        NBjets.append(numBjets)\n",
    "    return np.array(NBjets, dtype=np.dtype('int64'))"
   ]
  },
  {
   "cell_type": "code",
   "execution_count": 9,
   "metadata": {},
   "outputs": [],
   "source": [
    "res = []\n",
    "for root, dirs, files in os.walk(path):\n",
    "    rootpath = os.path.join(os.path.abspath(path), root)\n",
    "    for file in files:\n",
    "        filepath = os.path.join(rootpath, file)\n",
    "        \n",
    "        filetype = filepath.split('.')[-1]\n",
    "        if filetype != 'root': continue\n",
    "  \n",
    "        res.append(filepath)"
   ]
  },
  {
   "cell_type": "code",
   "execution_count": 10,
   "metadata": {
    "scrolled": true
   },
   "outputs": [
    {
     "data": {
      "text/plain": [
       "['/users/yewzzang/TTTT_TuneCP5_13TeV-amcatnlo-pythia8/4top_dump_ex1/220324_055935/delphes/4top_ex1_delphes_93.root',\n",
       " '/users/yewzzang/TTTT_TuneCP5_13TeV-amcatnlo-pythia8/4top_dump_ex1/220324_055935/delphes/4top_ex1_delphes_2.root',\n",
       " '/users/yewzzang/TTTT_TuneCP5_13TeV-amcatnlo-pythia8/4top_dump_ex1/220324_055935/delphes/4top_ex1_delphes_6.root',\n",
       " '/users/yewzzang/TTTT_TuneCP5_13TeV-amcatnlo-pythia8/4top_dump_ex1/220324_055935/delphes/4top_ex1_delphes_28.root',\n",
       " '/users/yewzzang/TTTT_TuneCP5_13TeV-amcatnlo-pythia8/4top_dump_ex1/220324_055935/delphes/4top_ex1_delphes_41.root',\n",
       " '/users/yewzzang/TTTT_TuneCP5_13TeV-amcatnlo-pythia8/4top_dump_ex1/220324_055935/delphes/4top_ex1_delphes_91.root',\n",
       " '/users/yewzzang/TTTT_TuneCP5_13TeV-amcatnlo-pythia8/4top_dump_ex1/220324_055935/delphes/4top_ex1_delphes_5.root',\n",
       " '/users/yewzzang/TTTT_TuneCP5_13TeV-amcatnlo-pythia8/4top_dump_ex1/220324_055935/delphes/4top_ex1_delphes_85.root',\n",
       " '/users/yewzzang/TTTT_TuneCP5_13TeV-amcatnlo-pythia8/4top_dump_ex1/220324_055935/delphes/4top_ex1_delphes_74.root',\n",
       " '/users/yewzzang/TTTT_TuneCP5_13TeV-amcatnlo-pythia8/4top_dump_ex1/220324_055935/delphes/4top_ex1_delphes_12.root',\n",
       " '/users/yewzzang/TTTT_TuneCP5_13TeV-amcatnlo-pythia8/4top_dump_ex1/220324_055935/delphes/4top_ex1_delphes_37.root',\n",
       " '/users/yewzzang/TTTT_TuneCP5_13TeV-amcatnlo-pythia8/4top_dump_ex1/220324_055935/delphes/4top_ex1_delphes_9.root',\n",
       " '/users/yewzzang/TTTT_TuneCP5_13TeV-amcatnlo-pythia8/4top_dump_ex1/220324_055935/delphes/4top_ex1_delphes_26.root',\n",
       " '/users/yewzzang/TTTT_TuneCP5_13TeV-amcatnlo-pythia8/4top_dump_ex1/220324_055935/delphes/4top_ex1_delphes_54.root',\n",
       " '/users/yewzzang/TTTT_TuneCP5_13TeV-amcatnlo-pythia8/4top_dump_ex1/220324_055935/delphes/4top_ex1_delphes_15.root',\n",
       " '/users/yewzzang/TTTT_TuneCP5_13TeV-amcatnlo-pythia8/4top_dump_ex1/220324_055935/delphes/4top_ex1_delphes_46.root',\n",
       " '/users/yewzzang/TTTT_TuneCP5_13TeV-amcatnlo-pythia8/4top_dump_ex1/220324_055935/delphes/4top_ex1_delphes_89.root',\n",
       " '/users/yewzzang/TTTT_TuneCP5_13TeV-amcatnlo-pythia8/4top_dump_ex1/220324_055935/delphes/4top_ex1_delphes_71.root',\n",
       " '/users/yewzzang/TTTT_TuneCP5_13TeV-amcatnlo-pythia8/4top_dump_ex1/220324_055935/delphes/4top_ex1_delphes_31.root',\n",
       " '/users/yewzzang/TTTT_TuneCP5_13TeV-amcatnlo-pythia8/4top_dump_ex1/220324_055935/delphes/4top_ex1_delphes_4.root',\n",
       " '/users/yewzzang/TTTT_TuneCP5_13TeV-amcatnlo-pythia8/4top_dump_ex1/220324_055935/delphes/4top_ex1_delphes_79.root',\n",
       " '/users/yewzzang/TTTT_TuneCP5_13TeV-amcatnlo-pythia8/4top_dump_ex1/220324_055935/delphes/4top_ex1_delphes_92.root',\n",
       " '/users/yewzzang/TTTT_TuneCP5_13TeV-amcatnlo-pythia8/4top_dump_ex1/220324_055935/delphes/4top_ex1_delphes_32.root',\n",
       " '/users/yewzzang/TTTT_TuneCP5_13TeV-amcatnlo-pythia8/4top_dump_ex1/220324_055935/delphes/4top_ex1_delphes_86.root',\n",
       " '/users/yewzzang/TTTT_TuneCP5_13TeV-amcatnlo-pythia8/4top_dump_ex1/220324_055935/delphes/4top_ex1_delphes_62.root',\n",
       " '/users/yewzzang/TTTT_TuneCP5_13TeV-amcatnlo-pythia8/4top_dump_ex1/220324_055935/delphes/4top_ex1_delphes_21.root',\n",
       " '/users/yewzzang/TTTT_TuneCP5_13TeV-amcatnlo-pythia8/4top_dump_ex1/220324_055935/delphes/4top_ex1_delphes_66.root',\n",
       " '/users/yewzzang/TTTT_TuneCP5_13TeV-amcatnlo-pythia8/4top_dump_ex1/220324_055935/delphes/4top_ex1_delphes_72.root',\n",
       " '/users/yewzzang/TTTT_TuneCP5_13TeV-amcatnlo-pythia8/4top_dump_ex1/220324_055935/delphes/4top_ex1_delphes_51.root',\n",
       " '/users/yewzzang/TTTT_TuneCP5_13TeV-amcatnlo-pythia8/4top_dump_ex1/220324_055935/delphes/4top_ex1_delphes_75.root',\n",
       " '/users/yewzzang/TTTT_TuneCP5_13TeV-amcatnlo-pythia8/4top_dump_ex1/220324_055935/delphes/4top_ex1_delphes_24.root',\n",
       " '/users/yewzzang/TTTT_TuneCP5_13TeV-amcatnlo-pythia8/4top_dump_ex1/220324_055935/delphes/4top_ex1_delphes_98.root',\n",
       " '/users/yewzzang/TTTT_TuneCP5_13TeV-amcatnlo-pythia8/4top_dump_ex1/220324_055935/delphes/4top_ex1_delphes_17.root',\n",
       " '/users/yewzzang/TTTT_TuneCP5_13TeV-amcatnlo-pythia8/4top_dump_ex1/220324_055935/delphes/4top_ex1_delphes_80.root',\n",
       " '/users/yewzzang/TTTT_TuneCP5_13TeV-amcatnlo-pythia8/4top_dump_ex1/220324_055935/delphes/4top_ex1_delphes_8.root',\n",
       " '/users/yewzzang/TTTT_TuneCP5_13TeV-amcatnlo-pythia8/4top_dump_ex1/220324_055935/delphes/4top_ex1_delphes_56.root',\n",
       " '/users/yewzzang/TTTT_TuneCP5_13TeV-amcatnlo-pythia8/4top_dump_ex1/220324_055935/delphes/4top_ex1_delphes_48.root',\n",
       " '/users/yewzzang/TTTT_TuneCP5_13TeV-amcatnlo-pythia8/4top_dump_ex1/220324_055935/delphes/4top_ex1_delphes_83.root',\n",
       " '/users/yewzzang/TTTT_TuneCP5_13TeV-amcatnlo-pythia8/4top_dump_ex1/220324_055935/delphes/4top_ex1_delphes_82.root',\n",
       " '/users/yewzzang/TTTT_TuneCP5_13TeV-amcatnlo-pythia8/4top_dump_ex1/220324_055935/delphes/4top_ex1_delphes_61.root',\n",
       " '/users/yewzzang/TTTT_TuneCP5_13TeV-amcatnlo-pythia8/4top_dump_ex1/220324_055935/delphes/4top_ex1_delphes_23.root',\n",
       " '/users/yewzzang/TTTT_TuneCP5_13TeV-amcatnlo-pythia8/4top_dump_ex1/220324_055935/delphes/4top_ex1_delphes_36.root',\n",
       " '/users/yewzzang/TTTT_TuneCP5_13TeV-amcatnlo-pythia8/4top_dump_ex1/220324_055935/delphes/4top_ex1_delphes_68.root',\n",
       " '/users/yewzzang/TTTT_TuneCP5_13TeV-amcatnlo-pythia8/4top_dump_ex1/220324_055935/delphes/4top_ex1_delphes_34.root',\n",
       " '/users/yewzzang/TTTT_TuneCP5_13TeV-amcatnlo-pythia8/4top_dump_ex1/220324_055935/delphes/4top_ex1_delphes_16.root',\n",
       " '/users/yewzzang/TTTT_TuneCP5_13TeV-amcatnlo-pythia8/4top_dump_ex1/220324_055935/delphes/4top_ex1_delphes_60.root',\n",
       " '/users/yewzzang/TTTT_TuneCP5_13TeV-amcatnlo-pythia8/4top_dump_ex1/220324_055935/delphes/4top_ex1_delphes_14.root',\n",
       " '/users/yewzzang/TTTT_TuneCP5_13TeV-amcatnlo-pythia8/4top_dump_ex1/220324_055935/delphes/4top_ex1_delphes_67.root',\n",
       " '/users/yewzzang/TTTT_TuneCP5_13TeV-amcatnlo-pythia8/4top_dump_ex1/220324_055935/delphes/4top_ex1_delphes_70.root',\n",
       " '/users/yewzzang/TTTT_TuneCP5_13TeV-amcatnlo-pythia8/4top_dump_ex1/220324_055935/delphes/4top_ex1_delphes_81.root',\n",
       " '/users/yewzzang/TTTT_TuneCP5_13TeV-amcatnlo-pythia8/4top_dump_ex1/220324_055935/delphes/4top_ex1_delphes_18.root',\n",
       " '/users/yewzzang/TTTT_TuneCP5_13TeV-amcatnlo-pythia8/4top_dump_ex1/220324_055935/delphes/4top_ex1_delphes_50.root',\n",
       " '/users/yewzzang/TTTT_TuneCP5_13TeV-amcatnlo-pythia8/4top_dump_ex1/220324_055935/delphes/4top_ex1_delphes_58.root',\n",
       " '/users/yewzzang/TTTT_TuneCP5_13TeV-amcatnlo-pythia8/4top_dump_ex1/220324_055935/delphes/4top_ex1_delphes_20.root',\n",
       " '/users/yewzzang/TTTT_TuneCP5_13TeV-amcatnlo-pythia8/4top_dump_ex1/220324_055935/delphes/4top_ex1_delphes_52.root',\n",
       " '/users/yewzzang/TTTT_TuneCP5_13TeV-amcatnlo-pythia8/4top_dump_ex1/220324_055935/delphes/4top_ex1_delphes_3.root',\n",
       " '/users/yewzzang/TTTT_TuneCP5_13TeV-amcatnlo-pythia8/4top_dump_ex1/220324_055935/delphes/4top_ex1_delphes_77.root',\n",
       " '/users/yewzzang/TTTT_TuneCP5_13TeV-amcatnlo-pythia8/4top_dump_ex1/220324_055935/delphes/4top_ex1_delphes_43.root',\n",
       " '/users/yewzzang/TTTT_TuneCP5_13TeV-amcatnlo-pythia8/4top_dump_ex1/220324_055935/delphes/4top_ex1_delphes_65.root',\n",
       " '/users/yewzzang/TTTT_TuneCP5_13TeV-amcatnlo-pythia8/4top_dump_ex1/220324_055935/delphes/4top_ex1_delphes_40.root',\n",
       " '/users/yewzzang/TTTT_TuneCP5_13TeV-amcatnlo-pythia8/4top_dump_ex1/220324_055935/delphes/4top_ex1_delphes_13.root',\n",
       " '/users/yewzzang/TTTT_TuneCP5_13TeV-amcatnlo-pythia8/4top_dump_ex1/220324_055935/delphes/4top_ex1_delphes_45.root',\n",
       " '/users/yewzzang/TTTT_TuneCP5_13TeV-amcatnlo-pythia8/4top_dump_ex1/220324_055935/delphes/4top_ex1_delphes_47.root',\n",
       " '/users/yewzzang/TTTT_TuneCP5_13TeV-amcatnlo-pythia8/4top_dump_ex1/220324_055935/delphes/4top_ex1_delphes_10.root',\n",
       " '/users/yewzzang/TTTT_TuneCP5_13TeV-amcatnlo-pythia8/4top_dump_ex1/220324_055935/delphes/4top_ex1_delphes_19.root',\n",
       " '/users/yewzzang/TTTT_TuneCP5_13TeV-amcatnlo-pythia8/4top_dump_ex1/220324_055935/delphes/4top_ex1_delphes_73.root',\n",
       " '/users/yewzzang/TTTT_TuneCP5_13TeV-amcatnlo-pythia8/4top_dump_ex1/220324_055935/delphes/4top_ex1_delphes_57.root',\n",
       " '/users/yewzzang/TTTT_TuneCP5_13TeV-amcatnlo-pythia8/4top_dump_ex1/220324_055935/delphes/4top_ex1_delphes_11.root',\n",
       " '/users/yewzzang/TTTT_TuneCP5_13TeV-amcatnlo-pythia8/4top_dump_ex1/220324_055935/delphes/4top_ex1_delphes_63.root',\n",
       " '/users/yewzzang/TTTT_TuneCP5_13TeV-amcatnlo-pythia8/4top_dump_ex1/220324_055935/delphes/4top_ex1_delphes_97.root',\n",
       " '/users/yewzzang/TTTT_TuneCP5_13TeV-amcatnlo-pythia8/4top_dump_ex1/220324_055935/delphes/4top_ex1_delphes_29.root',\n",
       " '/users/yewzzang/TTTT_TuneCP5_13TeV-amcatnlo-pythia8/4top_dump_ex1/220324_055935/delphes/4top_ex1_delphes_87.root',\n",
       " '/users/yewzzang/TTTT_TuneCP5_13TeV-amcatnlo-pythia8/4top_dump_ex1/220324_055935/delphes/4top_ex1_delphes_44.root',\n",
       " '/users/yewzzang/TTTT_TuneCP5_13TeV-amcatnlo-pythia8/4top_dump_ex1/220324_055935/delphes/4top_ex1_delphes_94.root',\n",
       " '/users/yewzzang/TTTT_TuneCP5_13TeV-amcatnlo-pythia8/4top_dump_ex1/220324_055935/delphes/4top_ex1_delphes_76.root',\n",
       " '/users/yewzzang/TTTT_TuneCP5_13TeV-amcatnlo-pythia8/4top_dump_ex1/220324_055935/delphes/4top_ex1_delphes_88.root',\n",
       " '/users/yewzzang/TTTT_TuneCP5_13TeV-amcatnlo-pythia8/4top_dump_ex1/220324_055935/delphes/4top_ex1_delphes_90.root',\n",
       " '/users/yewzzang/TTTT_TuneCP5_13TeV-amcatnlo-pythia8/4top_dump_ex1/220324_055935/delphes/4top_ex1_delphes_64.root',\n",
       " '/users/yewzzang/TTTT_TuneCP5_13TeV-amcatnlo-pythia8/4top_dump_ex1/220324_055935/delphes/4top_ex1_delphes_95.root',\n",
       " '/users/yewzzang/TTTT_TuneCP5_13TeV-amcatnlo-pythia8/4top_dump_ex1/220324_055935/delphes/4top_ex1_delphes_59.root',\n",
       " '/users/yewzzang/TTTT_TuneCP5_13TeV-amcatnlo-pythia8/4top_dump_ex1/220324_055935/delphes/4top_ex1_delphes_84.root',\n",
       " '/users/yewzzang/TTTT_TuneCP5_13TeV-amcatnlo-pythia8/4top_dump_ex1/220324_055935/delphes/4top_ex1_delphes_96.root',\n",
       " '/users/yewzzang/TTTT_TuneCP5_13TeV-amcatnlo-pythia8/4top_dump_ex1/220324_055935/delphes/4top_ex1_delphes_27.root',\n",
       " '/users/yewzzang/TTTT_TuneCP5_13TeV-amcatnlo-pythia8/4top_dump_ex1/220324_055935/delphes/4top_ex1_delphes_22.root',\n",
       " '/users/yewzzang/TTTT_TuneCP5_13TeV-amcatnlo-pythia8/4top_dump_ex1/220324_055935/delphes/4top_ex1_delphes_49.root',\n",
       " '/users/yewzzang/TTTT_TuneCP5_13TeV-amcatnlo-pythia8/4top_dump_ex1/220324_055935/delphes/4top_ex1_delphes_42.root',\n",
       " '/users/yewzzang/TTTT_TuneCP5_13TeV-amcatnlo-pythia8/4top_dump_ex1/220324_055935/delphes/4top_ex1_delphes_25.root',\n",
       " '/users/yewzzang/TTTT_TuneCP5_13TeV-amcatnlo-pythia8/4top_dump_ex1/220324_055935/delphes/4top_ex1_delphes_69.root',\n",
       " '/users/yewzzang/TTTT_TuneCP5_13TeV-amcatnlo-pythia8/4top_dump_ex1/220324_055935/delphes/4top_ex1_delphes_33.root',\n",
       " '/users/yewzzang/TTTT_TuneCP5_13TeV-amcatnlo-pythia8/4top_dump_ex1/220324_055935/delphes/4top_ex1_delphes_7.root',\n",
       " '/users/yewzzang/TTTT_TuneCP5_13TeV-amcatnlo-pythia8/4top_dump_ex1/220324_055935/delphes/4top_ex1_delphes_30.root',\n",
       " '/users/yewzzang/TTTT_TuneCP5_13TeV-amcatnlo-pythia8/4top_dump_ex1/220324_055935/delphes/4top_ex1_delphes_53.root',\n",
       " '/users/yewzzang/TTTT_TuneCP5_13TeV-amcatnlo-pythia8/4top_dump_ex1/220324_055935/delphes/4top_ex1_delphes_1.root',\n",
       " '/users/yewzzang/TTTT_TuneCP5_13TeV-amcatnlo-pythia8/4top_dump_ex1/220324_055935/delphes/4top_ex1_delphes_39.root',\n",
       " '/users/yewzzang/TTTT_TuneCP5_13TeV-amcatnlo-pythia8/4top_dump_ex1/220324_055935/delphes/4top_ex1_delphes_38.root',\n",
       " '/users/yewzzang/TTTT_TuneCP5_13TeV-amcatnlo-pythia8/4top_dump_ex1/220324_055935/delphes/4top_ex1_delphes_55.root',\n",
       " '/users/yewzzang/TTTT_TuneCP5_13TeV-amcatnlo-pythia8/4top_dump_ex1/220324_055935/delphes/4top_ex1_delphes_78.root',\n",
       " '/users/yewzzang/TTTT_TuneCP5_13TeV-amcatnlo-pythia8/4top_dump_ex1/220324_055935/delphes/4top_ex1_delphes_35.root']"
      ]
     },
     "execution_count": 10,
     "metadata": {},
     "output_type": "execute_result"
    }
   ],
   "source": [
    "res"
   ]
  },
  {
   "cell_type": "code",
   "execution_count": 11,
   "metadata": {},
   "outputs": [],
   "source": [
    "res = ['/users/yewzzang/TTTT_TuneCP5_13TeV-amcatnlo-pythia8/4top_dump_ex1/220324_055935/delphes/4top_ex1_delphes_80.root',\n",
    "       '/users/yewzzang/TTTT_TuneCP5_13TeV-amcatnlo-pythia8/4top_dump_ex1/220324_055935/delphes/4top_ex1_delphes_81.root',\n",
    "       '/users/yewzzang/TTTT_TuneCP5_13TeV-amcatnlo-pythia8/4top_dump_ex1/220324_055935/delphes/4top_ex1_delphes_82.root',\n",
    "       '/users/yewzzang/TTTT_TuneCP5_13TeV-amcatnlo-pythia8/4top_dump_ex1/220324_055935/delphes/4top_ex1_delphes_83.root',\n",
    "       '/users/yewzzang/TTTT_TuneCP5_13TeV-amcatnlo-pythia8/4top_dump_ex1/220324_055935/delphes/4top_ex1_delphes_84.root',\n",
    "       '/users/yewzzang/TTTT_TuneCP5_13TeV-amcatnlo-pythia8/4top_dump_ex1/220324_055935/delphes/4top_ex1_delphes_85.root',\n",
    "       '/users/yewzzang/TTTT_TuneCP5_13TeV-amcatnlo-pythia8/4top_dump_ex1/220324_055935/delphes/4top_ex1_delphes_86.root',\n",
    "       '/users/yewzzang/TTTT_TuneCP5_13TeV-amcatnlo-pythia8/4top_dump_ex1/220324_055935/delphes/4top_ex1_delphes_87.root',\n",
    "       '/users/yewzzang/TTTT_TuneCP5_13TeV-amcatnlo-pythia8/4top_dump_ex1/220324_055935/delphes/4top_ex1_delphes_88.root',\n",
    "       '/users/yewzzang/TTTT_TuneCP5_13TeV-amcatnlo-pythia8/4top_dump_ex1/220324_055935/delphes/4top_ex1_delphes_89.root',\n",
    "       '/users/yewzzang/TTTT_TuneCP5_13TeV-amcatnlo-pythia8/4top_dump_ex1/220324_055935/delphes/4top_ex1_delphes_8.root',]"
   ]
  },
  {
   "cell_type": "code",
   "execution_count": 12,
   "metadata": {
    "scrolled": true
   },
   "outputs": [
    {
     "name": "stderr",
     "output_type": "stream",
     "text": [
      "/users/yewzzang/.local/lib/python3.7/site-packages/ipykernel_launcher.py:100: UserWarning: To copy construct from a tensor, it is recommended to use sourceTensor.clone().detach() or sourceTensor.clone().detach().requires_grad_(True), rather than torch.tensor(sourceTensor).\n",
      "/users/yewzzang/.local/lib/python3.7/site-packages/ipykernel_launcher.py:129: UserWarning: To copy construct from a tensor, it is recommended to use sourceTensor.clone().detach() or sourceTensor.clone().detach().requires_grad_(True), rather than torch.tensor(sourceTensor).\n"
     ]
    },
    {
     "name": "stdout",
     "output_type": "stream",
     "text": [
      "/users/yewzzang/TTTT_TuneCP5_13TeV-amcatnlo-pythia8/4top_dump_ex1/220324_055935/graph/4top_ex1_80.h5 finish\n",
      "/users/yewzzang/TTTT_TuneCP5_13TeV-amcatnlo-pythia8/4top_dump_ex1/220324_055935/graph/4top_ex1_81.h5 finish\n",
      "/users/yewzzang/TTTT_TuneCP5_13TeV-amcatnlo-pythia8/4top_dump_ex1/220324_055935/graph/4top_ex1_82.h5 finish\n",
      "/users/yewzzang/TTTT_TuneCP5_13TeV-amcatnlo-pythia8/4top_dump_ex1/220324_055935/graph/4top_ex1_83.h5 finish\n",
      "/users/yewzzang/TTTT_TuneCP5_13TeV-amcatnlo-pythia8/4top_dump_ex1/220324_055935/graph/4top_ex1_84.h5 finish\n",
      "/users/yewzzang/TTTT_TuneCP5_13TeV-amcatnlo-pythia8/4top_dump_ex1/220324_055935/graph/4top_ex1_85.h5 finish\n",
      "/users/yewzzang/TTTT_TuneCP5_13TeV-amcatnlo-pythia8/4top_dump_ex1/220324_055935/graph/4top_ex1_86.h5 finish\n",
      "/users/yewzzang/TTTT_TuneCP5_13TeV-amcatnlo-pythia8/4top_dump_ex1/220324_055935/graph/4top_ex1_87.h5 finish\n",
      "/users/yewzzang/TTTT_TuneCP5_13TeV-amcatnlo-pythia8/4top_dump_ex1/220324_055935/graph/4top_ex1_88.h5 finish\n",
      "/users/yewzzang/TTTT_TuneCP5_13TeV-amcatnlo-pythia8/4top_dump_ex1/220324_055935/graph/4top_ex1_89.h5 finish\n",
      "/users/yewzzang/TTTT_TuneCP5_13TeV-amcatnlo-pythia8/4top_dump_ex1/220324_055935/graph/4top_ex1_8.h5 finish\n",
      "1503.861181974411\n"
     ]
    }
   ],
   "source": [
    "import time\n",
    "preds = []\n",
    "preds_sel = []\n",
    "f_weight_list = []\n",
    "f_weight_list_sel = []\n",
    "start = time.time()\n",
    "for i in range(len(res)):\n",
    "\n",
    "    file_name = res[i]\n",
    "    cla = file_name.split('/')[-4].split('_')\n",
    "    num = file_name.split('/')[-1].split('.')[-2]\n",
    "\n",
    "    \n",
    "\n",
    "    save_f_name = num\n",
    "\n",
    "    save_path = output_path\n",
    "    if not os.path.exists(save_path): os.makedirs(save_path)\n",
    "    save_file_name = save_path + save_f_name + '.pt'\n",
    "#     print(save_file_name)\n",
    "### load data\n",
    "    try:\n",
    "        r_data = uproot.open(file_name)[\"Delphes\"] \n",
    "#     r_data = uproot.open(file_name)[\"Delphes\"]\n",
    "    except KeyError:\n",
    "        print(\"delphes 없음\")\n",
    "        pass\n",
    "    \n",
    "    \n",
    "    \n",
    "    graph_file = graph_path + num.split('_')[0]+'_'+num.split('_')[1]+'_'+num.split('_')[3] + '.h5'\n",
    "    \n",
    "    \n",
    "    \n",
    "    f = h5py.File(graph_file,'r')\n",
    "    nEvent = len(f['events']['m'])\n",
    "    f_m = f['events']['m']\n",
    "    f_px = f['events']['px']\n",
    "    f_py = f['events']['py']\n",
    "    f_pz = f['events']['pz']\n",
    "    f_id = f['events']['id']\n",
    "    f_weight = f['events']['weight']\n",
    "\n",
    "\n",
    "    f_edge1 = f['graphs']['edge1']\n",
    "    f_edge2 = f['graphs']['edge2']\n",
    "    f_fea_list = []\n",
    "    f_edge_list = []\n",
    "    \n",
    "    for j in range(nEvent):\n",
    "        f_fea_reshape = torch.cat((torch.from_numpy(f_m[j]).reshape(-1,1),torch.from_numpy(f_px[j]).reshape(-1,1),torch.from_numpy(f_py[j]).reshape(-1,1),torch.from_numpy(f_pz[j]).reshape(-1,1)),1).float()   \n",
    "\n",
    "\n",
    "        f_edge_reshape = torch.cat((torch.from_numpy(f_edge1[j]).reshape(1,-1),torch.from_numpy(f_edge2[j]).reshape(1,-1)),0).float()\n",
    "\n",
    "        f_fea_list.append(f_fea_reshape)\n",
    "\n",
    "        f_edge_list.append(f_edge_reshape)\n",
    "        f_weight_list.append(f_weight[j])\n",
    "    \n",
    "    \n",
    "    \n",
    "    Muon_size = np.asarray(r_data[\"Muon_size\"])\n",
    "    Elec_size = np.asarray(r_data[\"Electron_size\"])\n",
    "    \n",
    "    JetPt = np.asarray(r_data[\"Jet.PT\"])\n",
    "    JetEta = np.asarray(r_data[\"Jet.Eta\"])\n",
    "    JetPhi = np.asarray(r_data[\"Jet.Phi\"])\n",
    "    JetMass = np.asarray(r_data[\"Jet.Mass\"])\n",
    "    JetBTag = np.asarray(r_data[\"Jet.BTag\"])\n",
    "    \n",
    "    FMass = np.asarray(r_data[\"FatJet.Mass\"])\n",
    "    FPt = np.asarray(r_data[\"FatJet.PT\"])\n",
    "    FEta = np.asarray(r_data[\"FatJet.Eta\"])\n",
    "\n",
    "    \n",
    "    pos = []\n",
    "    x_fea = []\n",
    "    edge_t = []\n",
    "\n",
    "    datalist = []\n",
    "    model.eval()\n",
    "    \n",
    "    for j in range(len(FPt)):\n",
    "\n",
    "        \n",
    "        ##### make resampling weith\n",
    "        \n",
    "        feats = torch.Tensor(f_fea_list[j])\n",
    "        edges = torch.Tensor(f_edge_list[j])\n",
    "        edges = edges.type(dtype=torch.long)\n",
    "        \n",
    " \n",
    "        \n",
    "        data = PyGData(x = feats, edge_index = edges, batch = torch.from_numpy(np.zeros([len(feats)],dtype = np.int)))\n",
    "\n",
    "        data = data.to(device)\n",
    "        pred = model(data)\n",
    "        \n",
    "        preds.append(torch.tensor(pred).cpu())\n",
    "    \n",
    "    ## make data    \n",
    "    for j in range(len(FPt)):\n",
    "        \n",
    "        ### selection\n",
    "        \n",
    "\n",
    "        numLepton = (Muon_size[j] + Elec_size[j])\n",
    "        if numLepton > 0 : continue\n",
    "            \n",
    "        selJets = (JetPt[j] > 35) & (np.fabs(JetEta[j]) < 2.4)\n",
    "        if np.sum(selJets) < 9: continue \n",
    "        ht = np.sum(JetPt[j][selJets])\n",
    "        if  ht < 700: continue\n",
    "        \n",
    "        ##### make resampling weith\n",
    "        \n",
    "        feats = torch.Tensor(f_fea_list[j])\n",
    "        edges = torch.Tensor(f_edge_list[j])\n",
    "        edges = edges.type(dtype=torch.long)\n",
    "        \n",
    " \n",
    "        \n",
    "        data = PyGData(x = feats, edge_index = edges, batch = torch.from_numpy(np.zeros([len(feats)],dtype = np.int)))\n",
    "\n",
    "        data = data.to(device)\n",
    "        pred = model(data)\n",
    "        f_weight_list_sel.append(f_weight_list[j])\n",
    "        preds_sel.append(torch.tensor(pred).cpu())\n",
    "    print(graph_file,'finish')\n",
    "\n",
    "print(time.time()-start)"
   ]
  },
  {
   "cell_type": "code",
   "execution_count": 13,
   "metadata": {},
   "outputs": [],
   "source": [
    "import matplotlib.pyplot as plt"
   ]
  },
  {
   "cell_type": "code",
   "execution_count": 27,
   "metadata": {},
   "outputs": [
    {
     "data": {
      "image/png": "[encoded data removed]",
      "text/plain": [
       "<Figure size 720x720 with 1 Axes>"
      ]
     },
     "metadata": {
      "needs_background": "light"
     },
     "output_type": "display_data"
    }
   ],
   "source": [
    "plt.figure(figsize=(10,10))\n",
    "\n",
    "\n",
    "\n",
    "plt.hist(torch.tensor(preds).reshape(1,-1), histtype='step', density=True, bins=50, color='blue',label='pred')        \n",
    "plt.hist(np.average(torch.tensor(preds)).reshape(1,-1), histtype='step', density=True, bins=50, color='black',label='pred_avg')        \n",
    "\n",
    "plt.hist((torch.tensor(f_weight_list)/torch.abs(torch.tensor(f_weight_list))).reshape(1,-1), histtype='step', density=True, bins=50, color='red',label='real')        \n",
    "plt.hist(np.average((torch.tensor(f_weight_list)/torch.abs(torch.tensor(f_weight_list))).reshape(1,-1)), histtype='step', density=True, bins=50, color='green',label='real_avg')        \n",
    "\n",
    "\n",
    "plt.legend()\n",
    "plt.xlim([-1.1,1.1])\n",
    "\n",
    "plt.show()"
   ]
  },
  {
   "cell_type": "code",
   "execution_count": 24,
   "metadata": {},
   "outputs": [
    {
     "data": {
      "image/png": "[encoded data removed]",
      "text/plain": [
       "<Figure size 720x720 with 1 Axes>"
      ]
     },
     "metadata": {
      "needs_background": "light"
     },
     "output_type": "display_data"
    }
   ],
   "source": [
    "plt.figure(figsize=(10,10))\n",
    "\n",
    "\n",
    "\n",
    "plt.hist(torch.tensor(preds_sel).reshape(1,-1), histtype='step', density=True, bins=50, color='blue',label='pred')        \n",
    "plt.hist(np.average(torch.tensor(preds_sel)).reshape(1,-1), histtype='step', density=True, bins=50, color='black',label='pred_avg')        \n",
    "\n",
    "\n",
    "plt.hist((torch.tensor(f_weight_list_sel)/torch.abs(torch.tensor(f_weight_list_sel))).reshape(1,-1), histtype='step', density=True, bins=50, color='red',label='real')        \n",
    "plt.hist(np.average((torch.tensor(f_weight_list_sel)/torch.abs(torch.tensor(f_weight_list_sel))).reshape(1,-1)), histtype='step', density=True, bins=50, color='green',label='real_avg')        \n",
    "\n",
    "\n",
    "plt.legend()\n",
    "plt.xlim([-1.1,1.1])\n",
    "\n",
    "plt.show()"
   ]
  },
  {
   "cell_type": "code",
   "execution_count": 32,
   "metadata": {},
   "outputs": [
    {
     "data": {
      "text/plain": [
       "0.3143722591108428"
      ]
     },
     "execution_count": 32,
     "metadata": {},
     "output_type": "execute_result"
    }
   ],
   "source": [
    "len(torch.tensor(f_weight_list)[torch.tensor(f_weight_list)<0])/len(torch.tensor(f_weight_list))"
   ]
  },
  {
   "cell_type": "code",
   "execution_count": 31,
   "metadata": {},
   "outputs": [
    {
     "data": {
      "text/plain": [
       "0.31737348185849473"
      ]
     },
     "execution_count": 31,
     "metadata": {},
     "output_type": "execute_result"
    }
   ],
   "source": [
    "len(torch.tensor(f_weight_list_sel)[torch.tensor(f_weight_list_sel)<0])/len(torch.tensor(f_weight_list_sel))"
   ]
  },
  {
   "cell_type": "code",
   "execution_count": null,
   "metadata": {},
   "outputs": [],
   "source": []
  },
  {
   "cell_type": "code",
   "execution_count": null,
   "metadata": {},
   "outputs": [],
   "source": []
  }
 ],
 "metadata": {
  "kernelspec": {
   "display_name": "Python 3",
   "language": "python",
   "name": "python3"
  },
  "language_info": {
   "codemirror_mode": {
    "name": "ipython",
    "version": 3
   },
   "file_extension": ".py",
   "mimetype": "text/x-python",
   "name": "python",
   "nbconvert_exporter": "python",
   "pygments_lexer": "ipython3",
   "version": "3.7.9"
  }
 },
 "nbformat": 4,
 "nbformat_minor": 4
}
